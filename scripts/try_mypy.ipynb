{
 "cells": [
  {
   "cell_type": "markdown",
   "metadata": {},
   "source": [
    "Expiriment to get mypy to play ball with the snippet testing strategy used for pyright\n"
   ]
  },
  {
   "cell_type": "code",
   "execution_count": 1,
   "metadata": {},
   "outputs": [
    {
     "name": "stdout",
     "output_type": "stream",
     "text": [
      "Notebook Path: c:\\develop\\MyPython\\micropython-stubs\\scripts\n",
      "check_path: C:\\develop\\MyPython\\micropython-stubs\\tests\\quality_tests\\check_esp32\n"
     ]
    }
   ],
   "source": [
    "import os\n",
    "from pathlib import Path\n",
    "\n",
    "notebook_path = os.getcwd()\n",
    "check_path = Path(notebook_path, \"../tests/quality_tests/check_esp32\").resolve().absolute()\n",
    "\n",
    "print(\"Notebook Path:\", notebook_path)\n",
    "print(\"check_path:\", check_path)"
   ]
  },
  {
   "cell_type": "code",
   "execution_count": 2,
   "metadata": {},
   "outputs": [
    {
     "name": "stdout",
     "output_type": "stream",
     "text": [
      "Processing c:\\develop\\mypython\\micropython-stubs\\publish\\micropython-stdlib-stubsNote: you may need to restart the kernel to use updated packages.\n",
      "\n",
      "  Installing build dependencies: started\n",
      "  Installing build dependencies: finished with status 'done'\n",
      "  Getting requirements to build wheel: started\n",
      "  Getting requirements to build wheel: finished with status 'done'\n",
      "  Preparing metadata (pyproject.toml): started\n",
      "  Preparing metadata (pyproject.toml): finished with status 'done'\n",
      "Collecting micropython-esp32-stubs\n",
      "  Using cached micropython_esp32_stubs-1.21.0.post4-py3-none-any.whl.metadata (3.2 kB)\n",
      "Using cached micropython_esp32_stubs-1.21.0.post4-py3-none-any.whl (147 kB)\n",
      "Building wheels for collected packages: micropython-stdlib-stubs\n",
      "  Building wheel for micropython-stdlib-stubs (pyproject.toml): started\n",
      "  Building wheel for micropython-stdlib-stubs (pyproject.toml): finished with status 'done'\n",
      "  Created wheel for micropython-stdlib-stubs: filename=micropython_stdlib_stubs-1.1.1a3-py3-none-any.whl size=121779 sha256=8f415fb4ae0d88647b3a36012816c46560f8a9854119a08f3380a3596691711a\n",
      "  Stored in directory: c:\\users\\josverl\\appdata\\local\\pip\\cache\\wheels\\dc\\bf\\64\\badaeca3b642752745d83261430f6134cd4a4216f273387121\n",
      "Successfully built micropython-stdlib-stubs\n",
      "Installing collected packages: micropython-stdlib-stubs, micropython-esp32-stubs\n",
      "Successfully installed micropython-esp32-stubs-1.21.0.post4 micropython-stdlib-stubs-1.1.1a3\n"
     ]
    }
   ],
   "source": [
    "# basic install with the latest local stdlib and esp32 stubs\n",
    "\n",
    "import shutil\n",
    "\n",
    "if os.path.exists(check_path / \"typings\"):\n",
    "    shutil.rmtree(check_path / \"typings\")\n",
    "\n",
    "os.chdir(notebook_path)\n",
    "%pip install --target {check_path}/typings --no-user \"../publish/micropython-stdlib-stubs\" micropython-esp32-stubs\n",
    "# %pip install --target {check_path}/typings --no-user micropython-esp32-stubs"
   ]
  },
  {
   "cell_type": "code",
   "execution_count": 6,
   "metadata": {},
   "outputs": [],
   "source": [
    "import subprocess\n",
    "import json\n",
    "from mypy_gitlab_code_quality import generate_report as gitlab_report\n",
    "\n",
    "def mypy_patch(check_path):\n",
    "    if not check_path.exists():\n",
    "        Exception(f\"Path {check_path} not found\")\n",
    "\n",
    "    for f in (\"typings/sys.pyi\",):\n",
    "        file = check_path / f\n",
    "\n",
    "        if file.exists():\n",
    "            print(f\"Removing {f}\")\n",
    "            if file.is_file():\n",
    "                file.unlink()\n",
    "\n",
    "            elif file.is_dir():\n",
    "                shutil.rmtree(file)\n",
    "\n",
    "\n",
    "def run_mypy(path: Path):\n",
    "    print(f\"Running mypy in {path}\")\n",
    "    mypy_patch(path)\n",
    "    cmd = [\"mypy\", \"-v\", \".\"]\n",
    "    cmd = [\"mypy\", \"--no-error-summary\", \"--no-color\", \".\"]\n",
    "    try:\n",
    "        output = subprocess.run(\n",
    "            cmd,\n",
    "            # check=True,\n",
    "            cwd=path,\n",
    "            capture_output=True,\n",
    "            text=True,\n",
    "            shell=False,\n",
    "        )\n",
    "        return output.stdout\n",
    "    except subprocess.CalledProcessError as e:\n",
    "        print(e)\n",
    "\n",
    "# convert from gitlab to pyright format\n",
    "\n",
    "HEADER = \"\"\"\n",
    "{\n",
    "    \"version\": \"\",\n",
    "    \"time\": \"\",\n",
    "    \"generalDiagnostics\": [],\n",
    "    \"summary\": {\n",
    "        \"filesAnalyzed\": -1,\n",
    "        \"errorCount\": -1,\n",
    "        \"warningCount\": -1,\n",
    "        \"informationCount\": -1,\n",
    "        \"timeInSec\": -1\n",
    "    }\n",
    "}\n",
    "\"\"\"\n",
    "DIAGNOSTIC = \"\"\"\n",
    "{\n",
    "    \"file\": \"\",\n",
    "    \"severity\": \"\",\n",
    "    \"message\": \"\",\n",
    "    \"rule\": \"\",\n",
    "    \"range\": {\n",
    "        \"start\": {\n",
    "            \"line\": -1,\n",
    "            \"character\": -1\n",
    "        },\n",
    "        \"end\": {\n",
    "            \"line\": -1,\n",
    "            \"character\": -1\n",
    "        }\n",
    "    }\n",
    "}\n",
    "\"\"\"\n",
    "\n",
    "def gitlab_to_pyright(report):\n",
    "    pyright_report = json.loads(HEADER)\n",
    "    pyright_report[\"version\"] = \"1.0\"\n",
    "    pyright_report[\"generalDiagnostics\"] = []\n",
    "    for issue in report:\n",
    "        i = json.loads(DIAGNOSTIC)\n",
    "        i[\"file\"] = issue[\"location\"][\"path\"]\n",
    "        i[\"severity\"] = issue[\"severity\"] # TODO: map to pyright severity\n",
    "        i[\"message\"] = issue[\"description\"]\n",
    "        i[\"rule\"] = issue[\"check_name\"]\n",
    "        i[\"range\"][\"start\"][\"line\"] = issue[\"location\"][\"lines\"][\"begin\"]\n",
    "        pyright_report[\"generalDiagnostics\"].append(i)\n",
    "\n",
    "    pyright_report[\"summary\"][\"errorCount\"] = len(pyright_report[\"generalDiagnostics\"])\n",
    "    return pyright_report\n",
    "\n"
   ]
  },
  {
   "cell_type": "code",
   "execution_count": 9,
   "metadata": {},
   "outputs": [
    {
     "name": "stdout",
     "output_type": "stream",
     "text": [
      "Running mypy in C:\\develop\\MyPython\\micropython-stubs\\tests\\quality_tests\\check_esp32\n"
     ]
    },
    {
     "data": {
      "text/plain": [
       "{'version': '1.0',\n",
       " 'time': '',\n",
       " 'generalDiagnostics': [{'file': 'check_aioespnow.py',\n",
       "   'severity': <Severity.major: 'major'>,\n",
       "   'message': 'Cannot instantiate abstract class \"AIOESPNow\" with abstract attribute \"__next__\"',\n",
       "   'rule': 'abstract',\n",
       "   'range': {'start': {'line': 14, 'character': -1},\n",
       "    'end': {'line': -1, 'character': -1}}}],\n",
       " 'summary': {'filesAnalyzed': -1,\n",
       "  'errorCount': 1,\n",
       "  'warningCount': -1,\n",
       "  'informationCount': -1,\n",
       "  'timeInSec': -1}}"
      ]
     },
     "execution_count": 9,
     "metadata": {},
     "output_type": "execute_result"
    }
   ],
   "source": [
    "# run mypy\n",
    "raw_results = run_mypy(check_path)\n",
    "results = raw_results.split(\"\\n\")\n",
    "\n",
    "gitlab_to_pyright(gitlab_report(map(str.rstrip, results)))"
   ]
  },
  {
   "cell_type": "code",
   "execution_count": null,
   "metadata": {},
   "outputs": [],
   "source": []
  }
 ],
 "metadata": {
  "kernelspec": {
   "display_name": "Python 3",
   "language": "python",
   "name": "python3"
  },
  "language_info": {
   "codemirror_mode": {
    "name": "ipython",
    "version": 3
   },
   "file_extension": ".py",
   "mimetype": "text/x-python",
   "name": "python",
   "nbconvert_exporter": "python",
   "pygments_lexer": "ipython3",
   "version": "3.11.7"
  }
 },
 "nbformat": 4,
 "nbformat_minor": 2
}
